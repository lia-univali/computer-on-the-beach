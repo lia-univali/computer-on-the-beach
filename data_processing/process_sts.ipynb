{
 "metadata": {
  "language_info": {
   "codemirror_mode": {
    "name": "ipython",
    "version": 3
   },
   "file_extension": ".py",
   "mimetype": "text/x-python",
   "name": "python",
   "nbconvert_exporter": "python",
   "pygments_lexer": "ipython3",
   "version": "3.8.5-final"
  },
  "orig_nbformat": 2,
  "kernelspec": {
   "name": "python3",
   "display_name": "Python 3.8.5 64-bit ('base': conda)",
   "metadata": {
    "interpreter": {
     "hash": "36a8943eb3d4bcbefc88a291bf472a79d87ef5b33f26d9a7dad253845020786c"
    }
   }
  }
 },
 "nbformat": 4,
 "nbformat_minor": 2,
 "cells": [
  {
   "cell_type": "code",
   "execution_count": 49,
   "metadata": {
    "tags": []
   },
   "outputs": [],
   "source": [
    "file1 = open('st.csv', 'r', encoding=\"utf8\")\n",
    "Lines = file1.readlines()\n",
    " \n",
    "count = 0\n",
    "# Strips the newline character\n",
    "dia = \"\"\n",
    "mes = \"\"\n",
    "hora = \"\"\n",
    "st = \"\"\n",
    "chair = \"\"\n",
    "a = \"\"\n",
    "universidade = \"\"\n",
    "pais = \"\"\n",
    "autor = \"\"\n",
    "trabalho = \"\"\n",
    "\n",
    "trabalho_opened = False\n",
    "st_opened =False\n",
    "out = \"\"\n",
    "for line in Lines:\n",
    "    line = line[:-1]\n",
    "    if(line[-1:] == ';'):\n",
    "        data = line.split(\", \")[1].split(\" \")\n",
    "        dia = data[0]\n",
    "        mes = data[2][:3]\n",
    "        # print(dia, ' ',mes)\n",
    "    elif (line[:1] == ';'):\n",
    "        line = line[1:]\n",
    "        data = line.split(\", \")\n",
    "        if(len(data) >= 3):\n",
    "            pais = data[-1]\n",
    "            universidade = data[-2]\n",
    "            \n",
    "            for i in range(len(data)-2):\n",
    "                autor = data[i]\n",
    "                out += ('\"'+autor+', '+universidade+', '+pais+'\",')\n",
    "            \n",
    "        else:\n",
    "            if(trabalho_opened):\n",
    "                out += (']},')\n",
    "                trabalho_opened = False\n",
    "            trabalho = line\n",
    "            out += ('{\"title\": \"'+trabalho+'\",\"authors\": [')\n",
    "            trabalho_opened = True\n",
    "            # print(trabalho)\n",
    "        # print(line)\n",
    "    else:\n",
    "        if(trabalho_opened):\n",
    "            out += (']},')\n",
    "            trabalho_opened = False\n",
    "        if(st_opened):\n",
    "            out += ']},'\n",
    "            st_opened = False\n",
    "        hora = line.split(\";\")[0].split(\" - \")[0][:5].replace(\":\", \"h\") \n",
    "        st =  line.split(\";\")[1].split(\" - \")[0]\n",
    "        chair =  line.split(\";\")[1].split(\" - \")[1].split(\": \")[1]\n",
    "        out += ('{\"title\": \"'+st+'\",\"chair\": \"'+chair+'\",\"time\": \"'+hora+'\",\"day\": \"'+mes+' '+dia+'\",\"papers\": [')\n",
    "        st_opened = True\n",
    "\n",
    "if(trabalho_opened):\n",
    "    out += (']},')\n",
    "    trabalho_opened = False\n",
    "if(st_opened):\n",
    "    out += ']},'\n",
    "    st_opened = False\n",
    "text_file = open(\"out.json\", \"w\", encoding=\"utf8\")\n",
    "\n",
    "text_file.write(out)\n",
    "\n",
    "text_file.close()\n",
    "        # print(hora, ' ',st, ' ',chair)"
   ]
  }
 ]
}